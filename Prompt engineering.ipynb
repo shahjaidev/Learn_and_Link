{
 "cells": [
  {
   "cell_type": "code",
   "execution_count": 3,
   "metadata": {},
   "outputs": [
    {
     "name": "stdout",
     "output_type": "stream",
     "text": [
      "[Classification<prediction: \"Change account settings\", confidence: 0.9848989, labels: {'Cancelling coverage': LabelPrediction(confidence=0.013387484), 'Change account settings': LabelPrediction(confidence=0.9848989), 'Filing a claim and viewing status': LabelPrediction(confidence=0.00034971524), 'Finding policy details': LabelPrediction(confidence=0.0013638533)}>, Classification<prediction: \"Finding policy details\", confidence: 0.82481486, labels: {'Cancelling coverage': LabelPrediction(confidence=0.05397479), 'Change account settings': LabelPrediction(confidence=0.07790726), 'Filing a claim and viewing status': LabelPrediction(confidence=0.04330309), 'Finding policy details': LabelPrediction(confidence=0.82481486)}>]\n"
     ]
    }
   ],
   "source": [
    "import cohere\n",
    "from cohere.responses.classify import Example\n",
    "\n",
    "co = cohere.Client('psUaQKev2tNO5rf9hQETCLym6uwb74SzdP5SmAuz')\n",
    "\n",
    "examples=[\n",
    "  Example(\"How do I find my insurance policy?\", \"Finding policy details\"),\n",
    "  Example(\"How do I download a copy of my insurance policy?\", \"Finding policy details\"),\n",
    "  Example(\"How do I find my policy effective date?\", \"Finding policy details\"),\n",
    "  Example(\"When does my insurance policy end?\", \"Finding policy details\"),\n",
    "  Example(\"Could you please tell me the date my policy becomes effective?\", \"Finding policy details\"),\n",
    "  Example(\"How do I sign up for electronic filing?\", \"Change account settings\"),\n",
    "  Example(\"How do I change my policy?\", \"Change account settings\"),\n",
    "  Example(\"How do I sign up for direct deposit?\", \"Change account settings\"),\n",
    "  Example(\"I want direct deposit. Can you help with that?\", \"Change account settings\"),\n",
    "  Example(\"Could you deposit money into my account rather than mailing me a physical cheque?\", \"Change account settings\"),\n",
    "  Example(\"How do I file an insurance claim?\", \"Filing a claim and viewing status\"),\n",
    "  Example(\"How do I file a reimbursement claim?\", \"Filing a claim and viewing status\"),\n",
    "  Example(\"How do I check my claim status?\", \"Filing a claim and viewing status\"),\n",
    "  Example(\"When will my claim be reimbursed?\", \"Filing a claim and viewing status\"),\n",
    "  Example(\"I filed my claim 2 weeks ago but I still haven't received a deposit for it.\", \"Filing a claim and viewing status\"),\n",
    "  Example(\"I want to cancel my policy immediately! This is nonsense.\", \"Cancelling coverage\"),\n",
    "  Example(\"Could you please help my end my insurance coverage? Thank you.\", \"Cancelling coverage\"),\n",
    "  Example(\"Your service sucks. I'm switching providers. Cancel my coverage.\", \"Cancelling coverage\"),\n",
    "  Example(\"Hello there! How do I cancel my coverage?\", \"Cancelling coverage\"),\n",
    "  Example(\"How do I delete my account?\", \"Cancelling coverage\")\n",
    "]\n",
    "inputs=[\n",
    "  \"I want to change my password\",\n",
    "  \"Does my policy cover prescription medication?\"\n",
    "]\n",
    "\n",
    "response = co.classify(\n",
    "  inputs=inputs,\n",
    "  examples=examples,\n",
    ")\n",
    "print(response)"
   ]
  },
  {
   "cell_type": "code",
   "execution_count": 43,
   "metadata": {},
   "outputs": [],
   "source": [
    "def generate(prompt, max_tokens = 300):\n",
    "    response = co.generate(  \n",
    "        model='command-nightly',  \n",
    "        prompt = prompt,  \n",
    "        max_tokens=max_tokens,  \n",
    "        temperature=0.750)\n",
    "    output = response.generations[0].text\n",
    "    return output"
   ]
  },
  {
   "cell_type": "code",
   "execution_count": 44,
   "metadata": {},
   "outputs": [],
   "source": [
    "linkedin = {'industryName': 'Computer Software', 'lastName': 'Beotra', 'locationName': 'United States', 'student': False, 'geoCountryName': 'United States', 'geoCountryUrn': 'urn:li:fs_geo:103644278', 'geoLocationBackfilled': False, 'elt': False, 'industryUrn': 'urn:li:fs_industry:4', 'firstName': 'Saksham', 'entityUrn': 'urn:li:fs_profile:ACoAACqPl4MBgwCQbijK5b2aOIFiz25cnwkBmxk', 'geoLocation': {'geoUrn': 'urn:li:fs_geo:102571732'}, 'geoLocationName': 'New York, New York', 'location': {'basicLocation': {'countryCode': 'us'}}, 'headline': 'Cornell Tech M.Eng Computer Science 2023', 'displayPictureUrl': 'https://media.licdn.com/dms/image/C4E03AQEeMviXvQI1XA/profile-displayphoto-shrink_', 'img_100_100': '100_100/0/1658120140565?e=1689206400&v=beta&t=b_3H0Jw5N94nQALfrhHO3-QAVteoxf-HWP71VZXEgkc', 'img_200_200': '200_200/0/1658120140565?e=1689206400&v=beta&t=A3qIbvSyezHIBq0RVZCvcsTyI6Gmxsu2WNq1LD4S6ak', 'img_400_400': '400_400/0/1658120140565?e=1689206400&v=beta&t=x-SkYP8AhG12BFIJarC7esxxPzw7k3CMig5fWA4P13g', 'img_800_800': '800_800/0/1658120140565?e=1689206400&v=beta&t=aE6cImGmZ2K_2qRKf1czPT1SJ4hTfE6dqIBWg2KY8sQ', 'profile_id': 'ACoAACqPl4MBgwCQbijK5b2aOIFiz25cnwkBmxk', 'profile_urn': 'urn:li:fs_miniProfile:ACoAACqPl4MBgwCQbijK5b2aOIFiz25cnwkBmxk', 'member_urn': 'urn:li:member:714053507', 'public_id': 'saksham-beotra', 'experience': [{'locationName': 'Cleveland, Ohio, United States', 'entityUrn': 'urn:li:fs_position:(ACoAACqPl4MBgwCQbijK5b2aOIFiz25cnwkBmxk,1673883027)', 'geoLocationName': 'Cleveland, Ohio, United States', 'geoUrn': 'urn:li:fs_geo:102356711', 'companyName': 'Cleveland Clinic', 'timePeriod': {'endDate': {'month': 7, 'year': 2022}, 'startDate': {'month': 9, 'year': 2020}}, 'description': 'Developed and deployed AI/ML powered applications for in-house use.', 'company': {'employeeCountRange': {'start': 10001}, 'industries': ['Hospital & Health Care']}, 'title': 'Bioinformatics Technologist', 'region': 'urn:li:fs_region:(us,0)', 'companyUrn': 'urn:li:fs_miniCompany:5656', 'companyLogoUrl': 'https://media.licdn.com/dms/image/C4D0BAQHpIFVMDGreYg/company-logo_'}, {'entityUrn': 'urn:li:fs_position:(ACoAACqPl4MBgwCQbijK5b2aOIFiz25cnwkBmxk,1482325928)', 'companyName': 'GirnarSoft', 'timePeriod': {'endDate': {'month': 8, 'year': 2019}, 'startDate': {'month': 6, 'year': 2019}}, 'description': \"Expanded the backend for Girnar's market portal cardekho.com, with more than 70 million monthly users, using NodeJS, PHP, and mySQL\", 'company': {'employeeCountRange': {'start': 1001, 'end': 5000}, 'industries': ['Information Technology and Services']}, 'title': 'Software Engineering Intern', 'companyUrn': 'urn:li:fs_miniCompany:221442', 'companyLogoUrl': 'https://media.licdn.com/dms/image/C560BAQFzWYq61M6g7w/company-logo_'}, {'locationName': 'Greater Los Angeles Area', 'entityUrn': 'urn:li:fs_position:(ACoAACqPl4MBgwCQbijK5b2aOIFiz25cnwkBmxk,1482325909)', 'geoLocationName': 'Greater Los Angeles Area', 'geoUrn': 'urn:li:fs_geo:90000049', 'companyName': 'Rently Keyless', 'timePeriod': {'endDate': {'month': 4, 'year': 2019}, 'startDate': {'month': 1, 'year': 2019}}, 'description': 'Conducted thorough data analysis to identify key factors impacting thermostat optimization and helped implement key selling features in the thermostats by developing machine learning algorithms.\\n', 'company': {'employeeCountRange': {'start': 51, 'end': 200}, 'industries': ['Real Estate']}, 'title': 'Software Engineering Intern ', 'region': 'urn:li:fs_region:(us,49)', 'companyUrn': 'urn:li:fs_miniCompany:18223169', 'companyLogoUrl': 'https://media.licdn.com/dms/image/C560BAQGhOpJVpCLjbA/company-logo_'}, {'entityUrn': 'urn:li:fs_position:(ACoAACqPl4MBgwCQbijK5b2aOIFiz25cnwkBmxk,1482327602)', 'companyName': 'HOOQ', 'timePeriod': {'endDate': {'month': 8, 'year': 2018}, 'startDate': {'month': 6, 'year': 2018}}, 'description': 'Used Python, Matplotlib, and Pandas to analyze thousands of data points and arrive at streamlined conclusions to increase user engagement\\xa0 \\n\\nPerformed data analysis to understand key metrics which drive product growth in South Asian markets\\n\\nHelped design the user interface for deployment of the product onto another video streaming app', 'company': {'employeeCountRange': {'start': 51, 'end': 200}, 'industries': ['Entertainment']}, 'title': 'Data Analytics Intern', 'companyUrn': 'urn:li:fs_miniCompany:6373927', 'companyLogoUrl': 'https://media.licdn.com/dms/image/C510BAQGfWPLeQ2rQiQ/company-logo_'}], 'education': [{'entityUrn': 'urn:li:fs_education:(ACoAACqPl4MBgwCQbijK5b2aOIFiz25cnwkBmxk,805067979)', 'school': {'objectUrn': 'urn:li:school:246008', 'entityUrn': 'urn:li:fs_miniSchool:246008', 'active': True, 'schoolName': 'Cornell Tech', 'trackingId': 'z+8kNHYKRIGQvsJRLA974Q==', 'logoUrl': 'https://media.licdn.com/dms/image/C560BAQH3chLO_k2ZXg/company-logo_'}, 'timePeriod': {'endDate': {'month': 5, 'year': 2023}, 'startDate': {'month': 8, 'year': 2022}}, 'fieldOfStudyUrn': 'urn:li:fs_fieldOfStudy:100189', 'degreeName': 'Master of Engineering', 'schoolName': 'Cornell Tech', 'fieldOfStudy': 'Computer Science', 'schoolUrn': 'urn:li:fs_miniSchool:246008'}, {'entityUrn': 'urn:li:fs_education:(ACoAACqPl4MBgwCQbijK5b2aOIFiz25cnwkBmxk,577985312)', 'school': {'objectUrn': 'urn:li:school:17954', 'entityUrn': 'urn:li:fs_miniSchool:17954', 'active': True, 'schoolName': 'UC San Diego', 'trackingId': 'BiBLEd4GQLqn9Jub181gbw==', 'logoUrl': 'https://media.licdn.com/dms/image/C560BAQHQYa-3EY_aaQ/company-logo_'}, 'timePeriod': {'endDate': {'year': 2020}, 'startDate': {'year': 2016}}, 'fieldOfStudyUrn': 'urn:li:fs_fieldOfStudy:100189', 'degreeName': 'Bachelor of Science - BS', 'schoolName': 'University of California San Diego', 'fieldOfStudy': 'Computer Science', 'degreeUrn': 'urn:li:fs_degree:400', 'schoolUrn': 'urn:li:fs_miniSchool:17954'}], 'languages': [{'name': 'English', 'proficiency': 'NATIVE_OR_BILINGUAL'}, {'name': 'Hindi', 'proficiency': 'NATIVE_OR_BILINGUAL'}], 'publications': [], 'certifications': [], 'volunteer': [], 'honors': [], 'projects': []}\n",
    "keys_to_keep = ['industryName', 'lastName', 'firstName', 'headline', 'experience', 'education', 'projects']\n",
    "linkedin_filtered = str({key: linkedin[key] for key in linkedin if key in keys_to_keep})"
   ]
  },
  {
   "cell_type": "code",
   "execution_count": 64,
   "metadata": {},
   "outputs": [
    {
     "data": {
      "text/plain": [
       "'Responsibilities: Manage availability, latency, scalability and efficiency of Google services by engineering reliability into software and systems;     Respond to and resolve emergent service problems; write software and build automation to prevent problem recurrence;     Participate in service capacity planning and demand forecasting, software performance analysis and system tuning;     Review and influence ongoing design, architecture, standards and methods for operating services and systems.'"
      ]
     },
     "execution_count": 64,
     "metadata": {},
     "output_type": "execute_result"
    }
   ],
   "source": [
    "job_description = \"Responsibilities: Manage availability, latency, scalability and efficiency of Google services by engineering reliability into software and systems; \\\n",
    "    Respond to and resolve emergent service problems; write software and build automation to prevent problem recurrence; \\\n",
    "    Participate in service capacity planning and demand forecasting, software performance analysis and system tuning; \\\n",
    "    Review and influence ongoing design, architecture, standards and methods for operating services and systems.\""
   ]
  },
  {
   "cell_type": "code",
   "execution_count": 46,
   "metadata": {},
   "outputs": [
    {
     "name": "stdout",
     "output_type": "stream",
     "text": [
      "\n",
      "\n",
      "Saksham Beotra is a Cornell Tech M.Eng Computer Science 2023 graduate. He has had several internships, including at the Cleveland Clinic, GirnarSoft, Rently Keyless, and HOOQ. He has also worked as a Bioinformatics Technologist at the Cleveland Clinic, where he developed and deployed AI/ML-powered applications for in-house use.\n"
     ]
    }
   ],
   "source": [
    "prompt = \"Summarize the person's information and experiences within five sentences: \" + linkedin_filtered\n",
    "summary = generate(prompt)\n",
    "summary"
   ]
  },
  {
   "cell_type": "code",
   "execution_count": 63,
   "metadata": {},
   "outputs": [
    {
     "data": {
      "text/plain": [
       "\"\\nDear [Google],\\n\\nI am writing to apply for a software engineering position at your company. Based on my research, I know that Google is a company that values innovation, creativity, and a strong work ethic. These are all qualities that I possess, and I would be a valuable asset to your team.\\n\\nAs a software engineer, I would be responsible for designing and implementing software solutions for your company. I would also be responsible for debugging and troubleshooting any issues that may arise. In addition, I would be responsible for working with other team members to ensure that the software is working as it should be.\\n\\nI would be a valuable asset to your team, and I would be able to contribute to your company's success. I would also be able to learn from the other team members, and I would be able to grow as a software engineer.\""
      ]
     },
     "execution_count": 63,
     "metadata": {},
     "output_type": "execute_result"
    }
   ],
   "source": [
    "company = \"Google\"\n",
    "job_description = job_description\n",
    "prompt = f\"Based on the personal information and experiences, generate a cover letter from his perspective for the {company} company. \" + summary\n",
    "cover_letter = generate(prompt, max_tokens=1000)\n",
    "cover_letter"
   ]
  },
  {
   "cell_type": "code",
   "execution_count": 70,
   "metadata": {},
   "outputs": [
    {
     "data": {
      "text/plain": [
       "\"\\n\\nThis person's last name is Arora, first name Hersh, and their headline is Engineering Manager at Uber. Their experience includes working as an Engineering Manager at Uber in New York, United States, from July 2022 to present, a Director, Software Engineering at Purpose Advisor Solutions in Toronto, Canada Area from December 2020 to July 2022, a Manager, Software Engineering at Purpose Advisor Solutions in Toronto, Canada Area from May 2019 to November 2020, and a Technical Lead at Payworks Payroll Services Canada in Toronto, Canada Area from May 2013 to April 2018. This person's education includes a Master of Science (M.Sc.) in Computer Science from the University of Manitoba.\""
      ]
     },
     "execution_count": 70,
     "metadata": {},
     "output_type": "execute_result"
    }
   ],
   "source": [
    "linkedin =  {'industryName': 'Technology, Information and Internet', 'lastName': 'Arora', 'firstName': 'Hersh', 'geoLocationName': 'New York, New York', 'headline': 'Engineering Manager at Uber', 'experience': [{'locationName': 'New York, United States', 'entityUrn': 'urn:li:fs_position:(ACoAABL_u3sB0o2OakUw6oy5hxUAi2Ubrh5jpww,2005537240)', 'geoLocationName': 'New York, United States', 'geoUrn': 'urn:li:fs_geo:105080838', 'companyName': 'Uber', 'timePeriod': {'startDate': {'month': 7, 'year': 2022}}, 'company': {'employeeCountRange': {'start': 10001}, 'industries': ['Computer Software']}, 'title': 'Engineering Manager II', 'region': 'urn:li:fs_region:(us,0)', 'companyUrn': 'urn:li:fs_miniCompany:1815218', 'companyLogoUrl': 'https://media.licdn.com/dms/image/C4D0BAQFiYnR1Mbtxdg/company-logo_'}, {'entityUrn': 'urn:li:fs_position:(ACoAABL_u3sB0o2OakUw6oy5hxUAi2Ubrh5jpww,1740333606)', 'companyName': 'Purpose Advisor Solutions', 'timePeriod': {'endDate': {'month': 7, 'year': 2022}, 'startDate': {'month': 12, 'year': 2020}}, 'description': 'Built a team of 30+ members from ground-up that worked across multiple domains including UI/UX development, microservices, API development, security, and infrastructure. \\n\\nResponsible for building technology that enables client onboarding, funding, AML/ID verification, custodian (back-office) integration, fee calculation engine, and other offering for financial advisory and portfolio management firms.', 'company': {'employeeCountRange': {'start': 51, 'end': 200}, 'industries': ['Financial Services']}, 'title': 'Director, Software Engineering', 'companyUrn': 'urn:li:fs_miniCompany:11819044', 'companyLogoUrl': 'https://media.licdn.com/dms/image/C560BAQGRanaMO1ua7w/company-logo_'}, {'locationName': 'Toronto, Canada Area', 'entityUrn': 'urn:li:fs_position:(ACoAABL_u3sB0o2OakUw6oy5hxUAi2Ubrh5jpww,1468614472)', 'geoLocationName': 'Toronto, Canada Area', 'companyName': 'Purpose Advisor Solutions', 'timePeriod': {'endDate': {'month': 11, 'year': 2020}, 'startDate': {'month': 5, 'year': 2019}}, 'description': \"Led the engineering team building wealth management products at Purpose.\\n\\nPart of the team that enabled the acquisition of Wealthsimple for Advisors(W4A) by Purpose. Spearheaded the build of products and technology that enabled W4A clients to onboard on the Purpose's platform.\", 'company': {'employeeCountRange': {'start': 51, 'end': 200}, 'industries': ['Financial Services']}, 'title': 'Manager, Software Engineering', 'companyUrn': 'urn:li:fs_miniCompany:11819044', 'companyLogoUrl': 'https://media.licdn.com/dms/image/C560BAQGRanaMO1ua7w/company-logo_'}, {'locationName': 'Toronto, Canada Area', 'entityUrn': 'urn:li:fs_position:(ACoAABL_u3sB0o2OakUw6oy5hxUAi2Ubrh5jpww,1315873257)', 'geoLocationName': 'Toronto, Canada Area', 'geoUrn': 'urn:li:fs_geo:90009551', 'companyName': 'Payworks Payroll Services Canada', 'timePeriod': {'endDate': {'month': 5, 'year': 2019}, 'startDate': {'month': 5, 'year': 2018}}, 'description': 'Responsible for leading long-term company initiatives for the past two years. Involved in coding, design reviews, sprint planning, conducting team meetings and scrum standups, code reviews, delegating tasks, and mentoring team members.\\n\\nObserved proper software development methodologies including requirement analysis, version control, Agile development, continuous integration and worked closely with Business Analysts, Quality Assurance Analysts, and UI/UX designers to provide better products.\\n\\nWorked on diverse projects in various domains and of varying complexities. Managed multiple projects at same time. Implemented various security initiatives towards better safety for clients.', 'company': {'employeeCountRange': {'start': 201, 'end': 500}, 'industries': ['Human Resources']}, 'title': 'Technical Lead', 'region': 'urn:li:fs_region:(ca,4876)', 'companyUrn': 'urn:li:fs_miniCompany:226307', 'companyLogoUrl': 'https://media.licdn.com/dms/image/C560BAQH_adyBEo_2yg/company-logo_'}, {'locationName': 'Toronto, Canada Area', 'entityUrn': 'urn:li:fs_position:(ACoAABL_u3sB0o2OakUw6oy5hxUAi2Ubrh5jpww,851895802)', 'geoLocationName': 'Toronto, Canada Area', 'geoUrn': 'urn:li:fs_geo:90009551', 'companyName': 'Payworks Payroll Services Canada', 'timePeriod': {'endDate': {'year': 2018}, 'startDate': {'year': 2013}}, 'description': 'Led a cross-functional team that re-built the core payroll processing product offered by Payworks. This initiative offered the clients a new and improved interface for payroll processing that enabled them to complete multiple payrolls in parallel at a faster execution speed.\\n\\nDeveloped RESTful Web APIs, UI components, responsive web design, microservices, complex SQL queries, and internal tools.', 'company': {'employeeCountRange': {'start': 201, 'end': 500}, 'industries': ['Human Resources']}, 'title': 'Systems Developer', 'region': 'urn:li:fs_region:(ca,4876)', 'companyUrn': 'urn:li:fs_miniCompany:226307', 'companyLogoUrl': 'https://media.licdn.com/dms/image/C560BAQH_adyBEo_2yg/company-logo_'}], 'education': [{'entityUrn': 'urn:li:fs_education:(ACoAABL_u3sB0o2OakUw6oy5hxUAi2Ubrh5jpww,204255100)', 'school': {'objectUrn': 'urn:li:school:10813', 'entityUrn': 'urn:li:fs_miniSchool:10813', 'active': True, 'schoolName': 'University of Manitoba', 'trackingId': 'PQQqQmQfRse41z4sZKgGUQ==', 'logoUrl': 'https://media.licdn.com/dms/image/D560BAQHv5yCvtn9GFg/company-logo_'}, 'degreeName': 'Master of Science (M.Sc.)', 'schoolName': 'University of Manitoba', 'fieldOfStudy': 'Computer Science', 'schoolUrn': 'urn:li:fs_miniSchool:10813'}], 'projects': []}\n",
    "keys_to_keep = ['industryName', 'lastName', 'firstName', 'headline', 'experience', 'education', 'projects']\n",
    "linkedin_filtered = str({key: linkedin[key] for key in linkedin if key in keys_to_keep})\n",
    "\n",
    "prompt = \"Summarize the person's information and experiences within five sentences: \" + linkedin_filtered\n",
    "summary_of_connection = generate(prompt)\n",
    "summary_of_connection"
   ]
  },
  {
   "cell_type": "code",
   "execution_count": 72,
   "metadata": {},
   "outputs": [
    {
     "name": "stderr",
     "output_type": "stream",
     "text": [
      "Your text contains a trailing whitespace, which has been trimmed to ensure high quality generations.\n"
     ]
    },
    {
     "data": {
      "text/plain": [
       "\"\\nHi Hersh,\\n\\nIt's great to connect with you. I'm Saksham Beotra, a Cornell Tech M.Eng Computer Science 2023 graduate. I've had several internships, including at the Cleveland Clinic, GirnarSoft, Rently Keyless, and HOOQ. I've also worked as a Bioinformatics Technologist at the Cleveland Clinic, where I developed and deployed AI/ML-powered applications for in-house use.\\n\\nI'd love to connect with you because I'm interested in learning more about your work as an Engineering Manager at Uber.\""
      ]
     },
     "execution_count": 72,
     "metadata": {},
     "output_type": "execute_result"
    }
   ],
   "source": [
    "prompt = \"Person A wants to say hi and introduce himself to his new connection, Person B. Please generate an introduction message based on their personal information. \\\n",
    "    Explain the reason he wants to connect with Person B. \\n\\n\"\n",
    "prompt += f\"Personal information of Person A: {summary}.\\n\\n\"\n",
    "prompt += f\"Personal information of Person B: {summary_of_connection}.\\n\\n\"\n",
    "prompt += \"Introduction Message: \"\n",
    "intro_message = generate(prompt, max_tokens=500)\n",
    "intro_message"
   ]
  }
 ],
 "metadata": {
  "kernelspec": {
   "display_name": "Python 3 (ipykernel)",
   "language": "python",
   "name": "python3"
  },
  "language_info": {
   "codemirror_mode": {
    "name": "ipython",
    "version": 3
   },
   "file_extension": ".py",
   "mimetype": "text/x-python",
   "name": "python",
   "nbconvert_exporter": "python",
   "pygments_lexer": "ipython3",
   "version": "3.10.4"
  },
  "vscode": {
   "interpreter": {
    "hash": "08eb4fb58a4b9c33333729776eece94017b5dc3fda72abf40d5b97f8217233ba"
   }
  }
 },
 "nbformat": 4,
 "nbformat_minor": 4
}
